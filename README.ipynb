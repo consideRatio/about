{
 "cells": [
  {
   "cell_type": "markdown",
   "metadata": {},
   "source": [
    "# JupyterHub example content"
   ]
  },
  {
   "cell_type": "markdown",
   "metadata": {},
   "source": [
    "## Jupyter allows us to leverage other peoples work\n",
    "- YouTube videos\n",
    "- Web-based applets\n",
    "- PDF files\n",
    "- ..."
   ]
  },
  {
   "cell_type": "markdown",
   "metadata": {},
   "source": [
    "## Examples\n",
    "#### Scaffold Machine Learning Basics\n",
    "- [Demo](scaffold-ml-basics/gradient-descent.ipynb)\n",
    "- [Origin - GitHub](https://github.com/consideRatio/jupyter-se-math-teacher)\n",
    "\n",
    "#### Use PDF Instructions\n",
    "- [Demo](use-pdf-instructions/use-pfd-instructions.ipynb)\n",
    "- [Staffan Melins Swedish book \"Programming in maths\"](http://www.oscillator.se/skola#pim)\n",
    "\n",
    "\n",
    "#### Embed a virtuallab\n",
    "- [Demo](embed-a-virtuallab/embed-a-virtuallab.ipynb)\n",
    "- [Origin - PhET's HTML5 Laborations](https://phet.colorado.edu/en/simulations/category/html)\n",
    "\n",
    "#### Generate Stencils\n",
    "- [Demo](generate-stencils/generate-stencils.ipynb)\n",
    "- [Origin - GitHub](https://github.com/consideRatio/stencils)"
   ]
  }
 ],
 "metadata": {
  "kernelspec": {
   "display_name": "Python 3",
   "language": "python",
   "name": "python3"
  },
  "language_info": {
   "codemirror_mode": {
    "name": "ipython",
    "version": 3
   },
   "file_extension": ".py",
   "mimetype": "text/x-python",
   "name": "python",
   "nbconvert_exporter": "python",
   "pygments_lexer": "ipython3",
   "version": "3.6.5"
  }
 },
 "nbformat": 4,
 "nbformat_minor": 2
}
