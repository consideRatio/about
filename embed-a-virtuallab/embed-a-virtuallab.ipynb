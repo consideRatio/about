{
 "cells": [
  {
   "cell_type": "markdown",
   "metadata": {},
   "source": [
    "# Laboration - Elektriska kretsar"
   ]
  },
  {
   "cell_type": "code",
   "execution_count": 1,
   "metadata": {
    "hide_input": true,
    "init_cell": true,
    "scrolled": false
   },
   "outputs": [
    {
     "data": {
      "text/html": [
       "\n",
       "        <iframe\n",
       "            width=\"985\"\n",
       "            height=\"640\"\n",
       "            src=\"https://phet.colorado.edu/sims/html/circuit-construction-kit-dc-virtual-lab/latest/circuit-construction-kit-dc-virtual-lab_en.html\"\n",
       "            frameborder=\"0\"\n",
       "            allowfullscreen\n",
       "        ></iframe>\n",
       "        "
      ],
      "text/plain": [
       "<IPython.lib.display.IFrame at 0x7f8a8c0aafd0>"
      ]
     },
     "metadata": {},
     "output_type": "display_data"
    }
   ],
   "source": [
    "# RUN THIS CELL\n",
    "from IPython.display import display, IFrame\n",
    "\n",
    "display(IFrame(\n",
    "    src='https://phet.colorado.edu/sims/html/circuit-construction-kit-dc-virtual-lab/latest/circuit-construction-kit-dc-virtual-lab_en.html',\n",
    "    width=985,\n",
    "    height=640\n",
    "))"
   ]
  },
  {
   "cell_type": "markdown",
   "metadata": {},
   "source": [
    "# Uppdrag\n",
    "Dra och släpp batterier, lampor samt volt- och amperemätare. Klicka på komponenterna och ställ in egenskaper som exempelvis hur mycket resistans de har."
   ]
  },
  {
   "cell_type": "markdown",
   "metadata": {},
   "source": [
    "## 1 - Seriekopplingar\n",
    "Skapa en seriekoppling av två eller fler batterier följt en seriekoppling av två eller flera lampor.\n",
    "\n",
    "#### Redovisning\n",
    "- Dra och släpp en screenshot nedan.\n",
    "\n",
    "- Förklara hur spänningen påverkades av att seriekoppla batterier.\n",
    "\n",
    "- Förklara hur resistansen påverkades av att seriekoppla resistanser."
   ]
  },
  {
   "cell_type": "markdown",
   "metadata": {},
   "source": [
    "## 2 - Parallellkoppling\n",
    "Skapa en parallellkoppling av två eller fler batterier följt av en parallellkoppling av två eller flera lampor.\n",
    "\n",
    "#### Redovisning\n",
    "- Dra och släpp en screenshot nedan.\n",
    "\n",
    "- Förklara hur spänningen påverkades av att parallellkoppla batterier.\n",
    "\n",
    "- Förklara hur resistansen påverkades av att parallellkoppla resistanser.\n"
   ]
  },
  {
   "cell_type": "markdown",
   "metadata": {},
   "source": [
    "## 3 - Valfri krets\n",
    "Skapa en valfri krets och berätta om den.\n",
    "\n",
    "#### Redovisning\n",
    "- Dra och släpp en screenshot nedan.\n",
    "- Berätta om din krets.\n"
   ]
  }
 ],
 "metadata": {
  "_draft": {
   "nbviewer_url": "https://gist.github.com/40d6f019269d76dbe3cc05b1d7a2fe31"
  },
  "celltoolbar": "Initialization Cell",
  "gist": {
   "data": {
    "description": "elektriska-kretsar.ipynb",
    "public": true
   },
   "id": "40d6f019269d76dbe3cc05b1d7a2fe31"
  },
  "kernelspec": {
   "display_name": "Python 3",
   "language": "python",
   "name": "python3"
  },
  "language_info": {
   "codemirror_mode": {
    "name": "ipython",
    "version": 3
   },
   "file_extension": ".py",
   "mimetype": "text/x-python",
   "name": "python",
   "nbconvert_exporter": "python",
   "pygments_lexer": "ipython3",
   "version": "3.6.5"
  }
 },
 "nbformat": 4,
 "nbformat_minor": 2
}
