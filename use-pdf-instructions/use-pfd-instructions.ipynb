{
 "cells": [
  {
   "cell_type": "markdown",
   "metadata": {},
   "source": [
    "# Using PDFs\n",
    "You can download a PDF and use it side by side with a notebook where you work.\n",
    "\n",
    "1. Download a PDF\n",
    "2. Create a notebook to do side by side with a PDF"
   ]
  },
  {
   "cell_type": "markdown",
   "metadata": {},
   "source": [
    "## Download a fresh PDF\n",
    "**Staffan Melin** has made the following *Swedish* PDF called *Programming in Maths*.\n",
    "\n",
    "Visit http://www.oscillator.se/skola#pim for more information."
   ]
  },
  {
   "cell_type": "code",
   "execution_count": null,
   "metadata": {},
   "outputs": [],
   "source": [
    "# RUN ME TO DOWNLOAD PDF\n",
    "!wget -O \"Staffan-Melin_PIM.pdf\" 'www.oscillator.se/sites/default/files/skola/pim.pdf'"
   ]
  }
 ],
 "metadata": {
  "kernelspec": {
   "display_name": "Python 3",
   "language": "python",
   "name": "python3"
  },
  "language_info": {
   "codemirror_mode": {
    "name": "ipython",
    "version": 3
   },
   "file_extension": ".py",
   "mimetype": "text/x-python",
   "name": "python",
   "nbconvert_exporter": "python",
   "pygments_lexer": "ipython3",
   "version": "3.6.5"
  }
 },
 "nbformat": 4,
 "nbformat_minor": 2
}
